{
 "cells": [
  {
   "cell_type": "code",
   "execution_count": 1,
   "metadata": {},
   "outputs": [
    {
     "name": "stdout",
     "output_type": "stream",
     "text": [
      "Please enter no. of Rows. :10\n",
      "J I H G F E D C B A \n",
      "J I H G F E D C B A \n",
      "J I H G F E D C B A \n",
      "J I H G F E D C B A \n",
      "J I H G F E D C B A \n",
      "J I H G F E D C B A \n",
      "J I H G F E D C B A \n",
      "J I H G F E D C B A \n",
      "J I H G F E D C B A \n",
      "J I H G F E D C B A \n"
     ]
    }
   ],
   "source": [
    "n=int(input(\"Please enter no. of Rows. :\"))\n",
    "for i in range(1,n+1):\n",
    "    for j in range(n,0,-1):\n",
    "        print(chr(64+j),end =' ')\n",
    "    print()"
   ]
  },
  {
   "cell_type": "code",
   "execution_count": null,
   "metadata": {},
   "outputs": [],
   "source": []
  }
 ],
 "metadata": {
  "kernelspec": {
   "display_name": "Python 3",
   "language": "python",
   "name": "python3"
  },
  "language_info": {
   "codemirror_mode": {
    "name": "ipython",
    "version": 3
   },
   "file_extension": ".py",
   "mimetype": "text/x-python",
   "name": "python",
   "nbconvert_exporter": "python",
   "pygments_lexer": "ipython3",
   "version": "3.6.8"
  }
 },
 "nbformat": 4,
 "nbformat_minor": 2
}
