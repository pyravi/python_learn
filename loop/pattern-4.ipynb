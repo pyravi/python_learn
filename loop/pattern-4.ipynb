{
 "cells": [
  {
   "cell_type": "code",
   "execution_count": 12,
   "metadata": {},
   "outputs": [
    {
     "name": "stdout",
     "output_type": "stream",
     "text": [
      "Please enter no. of Rows. :10\n",
      "AAAAAAAAAA\n",
      "BBBBBBBBBB\n",
      "CCCCCCCCCC\n",
      "DDDDDDDDDD\n",
      "EEEEEEEEEE\n",
      "FFFFFFFFFF\n",
      "GGGGGGGGGG\n",
      "HHHHHHHHHH\n",
      "IIIIIIIIII\n",
      "JJJJJJJJJJ\n"
     ]
    }
   ],
   "source": [
    "n=int(input(\"Please enter no. of Rows. :\"))\n",
    "for i in range(1,n+1):\n",
    "    print(chr(64+i)*n,end='\\n')\n",
    "    #print(chr(96+i)*n,end='\\n')\n"
   ]
  },
  {
   "cell_type": "code",
   "execution_count": null,
   "metadata": {},
   "outputs": [],
   "source": []
  }
 ],
 "metadata": {
  "kernelspec": {
   "display_name": "Python 3",
   "language": "python",
   "name": "python3"
  },
  "language_info": {
   "codemirror_mode": {
    "name": "ipython",
    "version": 3
   },
   "file_extension": ".py",
   "mimetype": "text/x-python",
   "name": "python",
   "nbconvert_exporter": "python",
   "pygments_lexer": "ipython3",
   "version": "3.6.8"
  }
 },
 "nbformat": 4,
 "nbformat_minor": 2
}
