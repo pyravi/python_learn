{
 "cells": [
  {
   "cell_type": "code",
   "execution_count": 6,
   "metadata": {},
   "outputs": [
    {
     "name": "stdout",
     "output_type": "stream",
     "text": [
      "Please enter no. of Rows. :10\n",
      "10101010101010101010\n",
      "9999999999\n",
      "8888888888\n",
      "7777777777\n",
      "6666666666\n",
      "5555555555\n",
      "4444444444\n",
      "3333333333\n",
      "2222222222\n",
      "1111111111\n",
      "\n"
     ]
    }
   ],
   "source": [
    "n=int(input(\"Please enter no. of Rows. :\"))\n",
    "for i in range(n,0,-1):\n",
    "    print(str(i)*n,end='\\n')\n",
    "print()"
   ]
  },
  {
   "cell_type": "code",
   "execution_count": null,
   "metadata": {},
   "outputs": [],
   "source": []
  }
 ],
 "metadata": {
  "kernelspec": {
   "display_name": "Python 3",
   "language": "python",
   "name": "python3"
  },
  "language_info": {
   "codemirror_mode": {
    "name": "ipython",
    "version": 3
   },
   "file_extension": ".py",
   "mimetype": "text/x-python",
   "name": "python",
   "nbconvert_exporter": "python",
   "pygments_lexer": "ipython3",
   "version": "3.6.8"
  }
 },
 "nbformat": 4,
 "nbformat_minor": 2
}
